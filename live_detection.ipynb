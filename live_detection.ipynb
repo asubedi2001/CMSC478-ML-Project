{
 "cells": [
  {
   "cell_type": "markdown",
   "metadata": {},
   "source": [
    "Assuming weights are already formed. Import torch and load the given model."
   ]
  },
  {
   "cell_type": "code",
   "execution_count": 12,
   "metadata": {},
   "outputs": [
    {
     "name": "stderr",
     "output_type": "stream",
     "text": [
      "Downloading: \"https://github.com/ultralytics/yolov5/zipball/master\" to C:\\Users\\asubedi/.cache\\torch\\hub\\master.zip\n",
      "YOLOv5  2023-12-18 Python-3.9.18 torch-2.1.2+cpu CPU\n",
      "\n",
      "Fusing layers... \n",
      "custom_YOLOv5s summary: 232 layers, 7254609 parameters, 0 gradients\n",
      "Adding AutoShape... \n"
     ]
    }
   ],
   "source": [
    "import torch\n",
    "import numpy as np\n",
    "import cv2\n",
    "import mss\n",
    "from PIL import Image\n",
    "\n",
    "model_filepath = \"./runs/train/yolov5s_results/weights/best.pt\"\n",
    "model = torch.hub.load('ultralytics/yolov5', 'custom', model_filepath, force_reload=True)  # custom model\n",
    "\n",
    "sct = mss.mss()\n",
    "\n",
    "#grab display info\n",
    "main_display_info = sct.monitors[1]\n",
    "display_width = main_display_info[\"width\"]\n",
    "display_height = main_display_info[\"height\"]\n",
    "display = {\"top\": 0, \"left\": 0, \"width\": display_width, \"height\": display_height}\n",
    "\n",
    "#run until user quits out of loop\n",
    "while True:\n",
    "    #grab screenshot from display\n",
    "    img = Image.frombytes('RGB', (display_width, display_height), sct.grab(display).rgb)\n",
    "    screen = cv2.cvtColor(np.array(img), cv2.COLOR_RGB2BGR)\n",
    "    \n",
    "    #allow our model to perform object detection on the stream of images\n",
    "    result = model(screen, size=416)\n",
    "    cv2.imshow('VALORANT Object Detection', result.render()[0])\n",
    "\n",
    "    #exit out once user presses 'q' on their keyboard\n",
    "    if cv2.waitKey(25) & 0xFF == ord('q'):\n",
    "        cv2.destroyAllWindows()\n",
    "        break\n",
    "\n"
   ]
  }
 ],
 "metadata": {
  "kernelspec": {
   "display_name": "YOLOv5",
   "language": "python",
   "name": "python3"
  },
  "language_info": {
   "codemirror_mode": {
    "name": "ipython",
    "version": 3
   },
   "file_extension": ".py",
   "mimetype": "text/x-python",
   "name": "python",
   "nbconvert_exporter": "python",
   "pygments_lexer": "ipython3",
   "version": "3.9.18"
  }
 },
 "nbformat": 4,
 "nbformat_minor": 2
}
